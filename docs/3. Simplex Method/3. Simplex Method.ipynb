{
 "cells": [
  {
   "attachments": {},
   "cell_type": "markdown",
   "metadata": {},
   "source": [
    "# 3. Simplex Method\n",
    "This notebook aims to use the simplex method to solve Linear Programming (LP) problems. The notation that will be used to introduce the simplex method is as below:\n",
    "$$min \\ \\ \\  \\textbf{c}^\\mathsf{T}\\textbf{x}$$\n",
    "$$ \\ \\ \\ \\ \\ s.t. \\ \\ Ax = b$$\n",
    "$$x \\geq 0$$\n",
    "\n",
    "Where $\\textbf{A}$ is an $m x n$ matrix with rank $m$ and all other vectors have appropriate dimension. $\\textbf{c}$ is a column vector.\n",
    "\n",
    "Suppose we have a basis $B$ and $A$ can be decompose as $A = [B \\ \\ N]$. Accordingly, any $x$ can be written as:\n",
    "$$x=\\begin{bmatrix}\n",
    "x_B \\\\\n",
    "x_N\n",
    "\\end{bmatrix} = \n",
    "\\begin{bmatrix}\n",
    "B^{-1}b \\\\\n",
    "0\n",
    "\\end{bmatrix}$$\n",
    "\n",
    "Cost vector $c$ can be written as:\n",
    "$$c=\\begin{bmatrix}\n",
    "c_B \\\\\n",
    "c_N\n",
    "\\end{bmatrix}$$\n",
    "\n",
    "In summary, $Ax = B$ can be written as\n",
    "$$Ax = [B \\ \\ N]\n",
    "\\begin{bmatrix}\n",
    "x_b \\\\\n",
    "x_N\n",
    "\\end{bmatrix}\n",
    "= b$$"
   ]
  },
  {
   "attachments": {},
   "cell_type": "markdown",
   "metadata": {},
   "source": [
    "We will be creating an algorithm to search all the basic feasible solution:"
   ]
  },
  {
   "attachments": {},
   "cell_type": "markdown",
   "metadata": {},
   "source": [
    "## 5.2 Searching All Basic Feasible Solutions ##"
   ]
  },
  {
   "cell_type": "code",
   "execution_count": 4,
   "metadata": {},
   "outputs": [],
   "source": [
    "# libraries and packages\n",
    "using LinearAlgebra\n",
    "using Combinatorics"
   ]
  },
  {
   "cell_type": "code",
   "execution_count": 6,
   "metadata": {},
   "outputs": [],
   "source": [
    "#initializing variable parameters\n",
    "c = [-3; -2; -1; -5; 0; 0; 0];\n",
    "A = [7 3 4 1 1 0 0 ;\n",
    "     2 1 1 5 0 1 0 ;\n",
    "     1 4 5 2 0 0 1 ];\n",
    "b = [7; 3; 8];"
   ]
  },
  {
   "cell_type": "code",
   "execution_count": 14,
   "metadata": {},
   "outputs": [],
   "source": [
    "m,n = size(A)\n",
    "\n",
    "@assert rank(A) == m"
   ]
  },
  {
   "cell_type": "code",
   "execution_count": 16,
   "metadata": {},
   "outputs": [],
   "source": [
    "obj = Inf\n",
    "opt_x = zeros(n);"
   ]
  },
  {
   "cell_type": "code",
   "execution_count": 18,
   "metadata": {},
   "outputs": [
    {
     "data": {
      "text/plain": [
       "35-element Vector{Vector{Int64}}:\n",
       " [1, 2, 3]\n",
       " [1, 2, 4]\n",
       " [1, 2, 5]\n",
       " [1, 2, 6]\n",
       " [1, 2, 7]\n",
       " [1, 3, 4]\n",
       " [1, 3, 5]\n",
       " [1, 3, 6]\n",
       " [1, 3, 7]\n",
       " [1, 4, 5]\n",
       " ⋮\n",
       " [3, 4, 6]\n",
       " [3, 4, 7]\n",
       " [3, 5, 6]\n",
       " [3, 5, 7]\n",
       " [3, 6, 7]\n",
       " [4, 5, 6]\n",
       " [4, 5, 7]\n",
       " [4, 6, 7]\n",
       " [5, 6, 7]"
      ]
     },
     "metadata": {},
     "output_type": "display_data"
    }
   ],
   "source": [
    "collect(combinations(1:n, m))"
   ]
  },
  {
   "cell_type": "code",
   "execution_count": null,
   "metadata": {},
   "outputs": [],
   "source": [
    "for b_idx in combinations(1:n,m)\n",
    "    B = A[:, b_idx]\n",
    "    c_B = c[b_idx]\n",
    "    x_B = inv(B) * b\n",
    "end\n"
   ]
  }
 ],
 "metadata": {
  "kernelspec": {
   "display_name": "Julia 1.8.2",
   "language": "julia",
   "name": "julia-1.8"
  },
  "language_info": {
   "file_extension": ".jl",
   "mimetype": "application/julia",
   "name": "julia",
   "version": "1.8.2"
  },
  "orig_nbformat": 4
 },
 "nbformat": 4,
 "nbformat_minor": 2
}
