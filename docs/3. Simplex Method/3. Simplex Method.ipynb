{
 "cells": [
  {
   "attachments": {},
   "cell_type": "markdown",
   "metadata": {},
   "source": [
    "# 3. Simplex Method\n",
    "This notebook aims to use the simplex method to solve Linear Programming (LP) problems. The notation that will be used to introduce the simplex method is as below:\n",
    "$$min \\ \\ \\  \\textbf{c}^\\mathsf{T}\\textbf{x}$$\n",
    "$$ \\ \\ \\ \\ \\ s.t. \\ \\ Ax = b$$\n",
    "$$x \\geq 0$$\n",
    "\n",
    "Where $\\textbf{A}$ is an $m x n$ matrix with rank $m$ and all other vectors have appropriate dimension. $\\textbf{c}$ is a column vector.\n",
    "\n",
    "Suppose we have a basis $B$ and $A$ can be decompose as $A = [B \\ \\ N]$. Accordingly, any $x$ can be written as:\n",
    "$$x=\\begin{bmatrix}\n",
    "x_B \\\\\n",
    "x_N\n",
    "\\end{bmatrix} = \n",
    "\\begin{bmatrix}\n",
    "B^{-1}b \\\\\n",
    "0\n",
    "\\end{bmatrix}$$\n",
    "\n",
    "Cost vector $c$ can be written as:\n",
    "$$c=\\begin{bmatrix}\n",
    "c_B \\\\\n",
    "c_N\n",
    "\\end{bmatrix}$$\n",
    "\n",
    "In summary, $Ax = B$ can be written as\n",
    "$$Ax = [B \\ \\ N]\n",
    "\\begin{bmatrix}\n",
    "x_b \\\\\n",
    "x_N\n",
    "\\end{bmatrix}\n",
    "= b$$"
   ]
  },
  {
   "attachments": {},
   "cell_type": "markdown",
   "metadata": {},
   "source": [
    "We will be creating an algorithm to search all the basic feasible solution:"
   ]
  },
  {
   "attachments": {},
   "cell_type": "markdown",
   "metadata": {},
   "source": [
    "## 5.2 Searching All Basic Feasible Solutions ##"
   ]
  },
  {
   "cell_type": "code",
   "execution_count": 6,
   "metadata": {},
   "outputs": [],
   "source": [
    "# libraries and packages\n",
    "using LinearAlgebra\n",
    "using Combinatorics"
   ]
  },
  {
   "cell_type": "code",
   "execution_count": 21,
   "metadata": {},
   "outputs": [],
   "source": [
    "#initializing variable parameters\n",
    "c = [-3; -2; -1; -5; 0; 0; 0];\n",
    "A = [7 3 4 1 1 0 0 ;\n",
    "     2 1 1 5 0 1 0 ;\n",
    "     1 4 5 2 0 0 1 ];\n",
    "b = [7; 3; 8];"
   ]
  },
  {
   "cell_type": "code",
   "execution_count": 3,
   "metadata": {},
   "outputs": [],
   "source": [
    "m,n = size(A)\n",
    "\n",
    "@assert rank(A) == m"
   ]
  },
  {
   "cell_type": "code",
   "execution_count": 4,
   "metadata": {},
   "outputs": [],
   "source": [
    "obj = Inf\n",
    "opt_x = zeros(n);"
   ]
  },
  {
   "cell_type": "code",
   "execution_count": 8,
   "metadata": {},
   "outputs": [],
   "source": [
    "collect(combinations(1:n, m));"
   ]
  },
  {
   "cell_type": "code",
   "execution_count": 12,
   "metadata": {},
   "outputs": [
    {
     "name": "stdout",
     "output_type": "stream",
     "text": [
      "[1, 2, 3][1, 2, 4][1, 2, 5][1, 2, 6][1, 2, 7][1, 3, 4][1, 3, 5][1, 3, 6][1, 3, 7][1, 4, 5][1, 4, 6][1, 4, 7][1, 5, 6][1, 5, 7][1, 6, 7][2, 3, 4][2, 3, 5][2, 3, 6][2, 3, 7][2, 4, 5][2, 4, 6][2, 4, 7][2, 5, 6][2, 5, 7][2, 6, 7][3, 4, 5][3, 4, 6][3, 4, 7][3, 5, 6][3, 5, 7][3, 6, 7][4, 5, 6][4, 5, 7][4, 6, 7][5, 6, 7]"
     ]
    }
   ],
   "source": [
    "for b_idx in combinations(1:n,m)\n",
    "    B = A[:, b_idx]\n",
    "    c_B = c[b_idx]\n",
    "    x_B = inv(B) * b\n",
    "end\n"
   ]
  },
  {
   "cell_type": "code",
   "execution_count": 22,
   "metadata": {},
   "outputs": [
    {
     "data": {
      "text/plain": [
       "3×7 Matrix{Int64}:\n",
       " 7  3  4  1  1  0  0\n",
       " 2  1  1  5  0  1  0\n",
       " 1  4  5  2  0  0  1"
      ]
     },
     "execution_count": 22,
     "metadata": {},
     "output_type": "execute_result"
    }
   ],
   "source": [
    "A"
   ]
  },
  {
   "cell_type": "code",
   "execution_count": 23,
   "metadata": {},
   "outputs": [
    {
     "data": {
      "text/plain": [
       "3-element Vector{Int64}:\n",
       " 2\n",
       " 5\n",
       " 7"
      ]
     },
     "execution_count": 23,
     "metadata": {},
     "output_type": "execute_result"
    }
   ],
   "source": [
    "b_idx = [2,5,7]"
   ]
  },
  {
   "cell_type": "code",
   "execution_count": 24,
   "metadata": {},
   "outputs": [
    {
     "data": {
      "text/plain": [
       "3×3 Matrix{Int64}:\n",
       " 3  1  0\n",
       " 1  0  0\n",
       " 4  0  1"
      ]
     },
     "execution_count": 24,
     "metadata": {},
     "output_type": "execute_result"
    }
   ],
   "source": [
    "A[:, b_idx] "
   ]
  },
  {
   "cell_type": "code",
   "execution_count": null,
   "metadata": {},
   "outputs": [],
   "source": []
  }
 ],
 "metadata": {
  "kernelspec": {
   "display_name": "Julia 1.8.1",
   "language": "julia",
   "name": "julia-1.8"
  },
  "language_info": {
   "file_extension": ".jl",
   "mimetype": "application/julia",
   "name": "julia",
   "version": "1.8.1"
  },
  "orig_nbformat": 4
 },
 "nbformat": 4,
 "nbformat_minor": 2
}
