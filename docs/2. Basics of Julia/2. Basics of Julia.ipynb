{
 "cells": [
  {
   "attachments": {},
   "cell_type": "markdown",
   "metadata": {},
   "source": [
    "# Vector, Matrix and Array"
   ]
  },
  {
   "attachments": {},
   "cell_type": "markdown",
   "metadata": {},
   "source": [
    "## 3.1 Vector, Matrix and Array"
   ]
  },
  {
   "attachments": {},
   "cell_type": "markdown",
   "metadata": {},
   "source": [
    "Below, we will be recreating a couple of vector, matrix and arrays using Julia. Expressing vector, matrix and arrays is very similar to MATLAB"
   ]
  },
  {
   "cell_type": "code",
   "execution_count": 1,
   "metadata": {},
   "outputs": [
    {
     "data": {
      "text/plain": [
       "2×3 Matrix{Int64}:\n",
       " 1  2  3\n",
       " 4  5  6"
      ]
     },
     "metadata": {},
     "output_type": "display_data"
    }
   ],
   "source": [
    "a= [1;2;3]\n",
    "b = [4 5 6]\n",
    "A= [1 2 3; 4 5 6]"
   ]
  },
  {
   "cell_type": "code",
   "execution_count": 7,
   "metadata": {},
   "outputs": [
    {
     "data": {
      "text/plain": [
       "2×3 Matrix{Int64}:\n",
       " 1  2  3\n",
       " 4  5  6"
      ]
     },
     "metadata": {},
     "output_type": "display_data"
    }
   ],
   "source": [
    "A"
   ]
  },
  {
   "cell_type": "code",
   "execution_count": 8,
   "metadata": {},
   "outputs": [
    {
     "data": {
      "text/plain": [
       "3×2 transpose(::Matrix{Int64}) with eltype Int64:\n",
       " 1  4\n",
       " 2  5\n",
       " 3  6"
      ]
     },
     "metadata": {},
     "output_type": "display_data"
    }
   ],
   "source": [
    "transpose(A)"
   ]
  },
  {
   "cell_type": "code",
   "execution_count": 16,
   "metadata": {},
   "outputs": [
    {
     "data": {
      "text/plain": [
       "3×3 Matrix{Int64}:\n",
       " 1  3  2\n",
       " 3  2  2\n",
       " 1  1  1"
      ]
     },
     "metadata": {},
     "output_type": "display_data"
    }
   ],
   "source": [
    "B = [1 3 2; 3 2 2; 1 1 1]"
   ]
  },
  {
   "cell_type": "code",
   "execution_count": 17,
   "metadata": {},
   "outputs": [
    {
     "data": {
      "text/plain": [
       "3×3 Matrix{Float64}:\n",
       "  1.11022e-16   1.0  -2.0\n",
       "  1.0           1.0  -4.0\n",
       " -1.0          -2.0   7.0"
      ]
     },
     "metadata": {},
     "output_type": "display_data"
    }
   ],
   "source": [
    "inv(B)"
   ]
  },
  {
   "cell_type": "code",
   "execution_count": 18,
   "metadata": {},
   "outputs": [
    {
     "data": {
      "text/plain": [
       "3×3 Matrix{Float64}:\n",
       "  1.0          0.0  0.0\n",
       "  0.0          1.0  0.0\n",
       " -2.22045e-16  0.0  1.0"
      ]
     },
     "metadata": {},
     "output_type": "display_data"
    }
   ],
   "source": [
    "B*inv(B)"
   ]
  },
  {
   "cell_type": "code",
   "execution_count": 19,
   "metadata": {},
   "outputs": [
    {
     "data": {
      "text/plain": [
       "1.0000000000000004"
      ]
     },
     "metadata": {},
     "output_type": "display_data"
    }
   ],
   "source": [
    "inv(B)[2,1]"
   ]
  },
  {
   "attachments": {},
   "cell_type": "markdown",
   "metadata": {},
   "source": [
    "## 3.2 Tuple"
   ]
  },
  {
   "attachments": {},
   "cell_type": "markdown",
   "metadata": {},
   "source": [
    "These types of arrays can be useful for handling network data with nodes and links, for example for storing data like (i,j). "
   ]
  },
  {
   "cell_type": "code",
   "execution_count": 23,
   "metadata": {},
   "outputs": [
    {
     "data": {
      "text/plain": [
       "3-element Vector{Tuple{Int64, Int64}}:\n",
       " (1, 2)\n",
       " (3, 4)\n",
       " (5, 6)"
      ]
     },
     "metadata": {},
     "output_type": "display_data"
    }
   ],
   "source": [
    "Sample_pairs = [ (1,2); (3,4); (5,6) ]"
   ]
  },
  {
   "attachments": {},
   "cell_type": "markdown",
   "metadata": {},
   "source": [
    "When you want (i,j,k), simply do:"
   ]
  },
  {
   "cell_type": "code",
   "execution_count": 26,
   "metadata": {},
   "outputs": [
    {
     "data": {
      "text/plain": [
       "3-element Vector{Tuple{Int64, Int64, Int64}}:\n",
       " (0, 1, 2956482560)\n",
       " (2, 1, 167378945)\n",
       " (4, 1, 1)"
      ]
     },
     "metadata": {},
     "output_type": "display_data"
    }
   ],
   "source": [
    "ijk_array = Array{Tuple{Int64, Int64, Int64}}(undef, 3)"
   ]
  },
  {
   "cell_type": "code",
   "execution_count": 27,
   "metadata": {},
   "outputs": [
    {
     "data": {
      "text/plain": [
       "(1, 4, 2)"
      ]
     },
     "metadata": {},
     "output_type": "display_data"
    }
   ],
   "source": [
    "ijk_array[1] = (1, 4, 2)"
   ]
  },
  {
   "cell_type": "code",
   "execution_count": 28,
   "metadata": {},
   "outputs": [
    {
     "data": {
      "text/plain": [
       "3-element Vector{Tuple{Int64, Int64, Int64}}:\n",
       " (1, 4, 2)\n",
       " (2, 1, 167378945)\n",
       " (4, 1, 1)"
      ]
     },
     "metadata": {},
     "output_type": "display_data"
    }
   ],
   "source": [
    "ijk_array"
   ]
  },
  {
   "cell_type": "markdown",
   "metadata": {},
   "source": [
    "## 3.5 Collection, Dictionary and For-Loop"
   ]
  },
  {
   "attachments": {},
   "cell_type": "markdown",
   "metadata": {},
   "source": [
    "### For-Loop"
   ]
  },
  {
   "cell_type": "code",
   "execution_count": 34,
   "metadata": {},
   "outputs": [
    {
     "name": "stdout",
     "output_type": "stream",
     "text": [
      "This is a number 1\n",
      "This is a number 2\n",
      "This is a number 4\n",
      "This is a number 5\n"
     ]
    }
   ],
   "source": [
    "for i in 1:5\n",
    "    if i == 3\n",
    "        continue\n",
    "    else\n",
    "        println(\"This is a number $i\")\n",
    "    end\n",
    "end"
   ]
  },
  {
   "attachments": {},
   "cell_type": "markdown",
   "metadata": {},
   "source": [
    "### Dictionary"
   ]
  },
  {
   "cell_type": "code",
   "execution_count": 37,
   "metadata": {},
   "outputs": [],
   "source": [
    "d = Dict()\n",
    "\n",
    "my_keys = [\"Zinedine Zidane\", \"Magic Johnson\", \"Yuna Kim\"]\n",
    "my_values = [\"football\", \"basketball\", \"figure skating\"]\n",
    "\n",
    "for i in 1:length(my_keys)\n",
    "    d[my_keys[i]] = my_values[i]\n",
    "end"
   ]
  },
  {
   "cell_type": "code",
   "execution_count": 38,
   "metadata": {},
   "outputs": [
    {
     "data": {
      "text/plain": [
       "Dict{Any, Any} with 3 entries:\n",
       "  \"Magic Johnson\"   => \"basketball\"\n",
       "  \"Zinedine Zidane\" => \"football\"\n",
       "  \"Yuna Kim\"        => \"figure skating\""
      ]
     },
     "metadata": {},
     "output_type": "display_data"
    }
   ],
   "source": [
    "d"
   ]
  },
  {
   "attachments": {},
   "cell_type": "markdown",
   "metadata": {},
   "source": [
    "## 3.6 Function"
   ]
  },
  {
   "cell_type": "code",
   "execution_count": 41,
   "metadata": {},
   "outputs": [
    {
     "data": {
      "text/plain": [
       "f (generic function with 1 method)"
      ]
     },
     "metadata": {},
     "output_type": "display_data"
    }
   ],
   "source": [
    "f(x,y) = 3x+y"
   ]
  },
  {
   "cell_type": "code",
   "execution_count": 42,
   "metadata": {},
   "outputs": [
    {
     "data": {
      "text/plain": [
       "6"
      ]
     },
     "metadata": {},
     "output_type": "display_data"
    }
   ],
   "source": [
    "f(1,3)"
   ]
  },
  {
   "cell_type": "code",
   "execution_count": 44,
   "metadata": {},
   "outputs": [
    {
     "data": {
      "text/plain": [
       "my_func (generic function with 1 method)"
      ]
     },
     "metadata": {},
     "output_type": "display_data"
    }
   ],
   "source": [
    "function my_func(n,m)\n",
    "    a = zeros(n,1)\n",
    "    b = ones(m,1)\n",
    "    return(a,b)\n",
    "end"
   ]
  },
  {
   "cell_type": "code",
   "execution_count": 45,
   "metadata": {},
   "outputs": [
    {
     "data": {
      "text/plain": [
       "([0.0; 0.0; 0.0;;], [1.0; 1.0;;])"
      ]
     },
     "metadata": {},
     "output_type": "display_data"
    }
   ],
   "source": [
    "X,Y = my_func(3,2)"
   ]
  },
  {
   "cell_type": "code",
   "execution_count": 46,
   "metadata": {},
   "outputs": [
    {
     "data": {
      "text/plain": [
       "3×1 Matrix{Float64}:\n",
       " 0.0\n",
       " 0.0\n",
       " 0.0"
      ]
     },
     "metadata": {},
     "output_type": "display_data"
    }
   ],
   "source": [
    "X"
   ]
  },
  {
   "cell_type": "code",
   "execution_count": 47,
   "metadata": {},
   "outputs": [
    {
     "data": {
      "text/plain": [
       "2×1 Matrix{Float64}:\n",
       " 1.0\n",
       " 1.0"
      ]
     },
     "metadata": {},
     "output_type": "display_data"
    }
   ],
   "source": [
    "Y"
   ]
  },
  {
   "attachments": {},
   "cell_type": "markdown",
   "metadata": {},
   "source": [
    "One can use the dot function to carry out a certain function to individual elements"
   ]
  },
  {
   "cell_type": "code",
   "execution_count": 49,
   "metadata": {},
   "outputs": [
    {
     "data": {
      "text/plain": [
       "1×2 Matrix{Float64}:\n",
       " 3.0  4.0"
      ]
     },
     "metadata": {},
     "output_type": "display_data"
    }
   ],
   "source": [
    "test = sqrt.([9 16])"
   ]
  },
  {
   "cell_type": "code",
   "execution_count": 50,
   "metadata": {},
   "outputs": [
    {
     "data": {
      "text/plain": [
       "9.141120008059866"
      ]
     },
     "metadata": {},
     "output_type": "display_data"
    }
   ],
   "source": [
    "my_func(x) = sin(x) + 3*x\n",
    "\n",
    "my_func(3)"
   ]
  },
  {
   "cell_type": "code",
   "execution_count": 52,
   "metadata": {},
   "outputs": [
    {
     "data": {
      "text/plain": [
       "10-element Vector{Float64}:\n",
       "  3.8414709848078967\n",
       "  6.909297426825682\n",
       "  9.141120008059866\n",
       " 11.243197504692072\n",
       " 14.041075725336862\n",
       " 17.720584501801074\n",
       " 21.656986598718788\n",
       " 24.989358246623382\n",
       " 27.412118485241756\n",
       " 29.45597888911063"
      ]
     },
     "metadata": {},
     "output_type": "display_data"
    }
   ],
   "source": [
    "my_func.([1,2,3,4,5,6,7,8,9,10])"
   ]
  },
  {
   "cell_type": "code",
   "execution_count": 54,
   "metadata": {},
   "outputs": [
    {
     "data": {
      "text/plain": [
       "60.071941305215205"
      ]
     },
     "metadata": {},
     "output_type": "display_data"
    }
   ],
   "source": [
    "rand() * 100"
   ]
  },
  {
   "cell_type": "code",
   "execution_count": 56,
   "metadata": {},
   "outputs": [
    {
     "data": {
      "text/plain": [
       "10-element Vector{Float64}:\n",
       " 56.44673499345795\n",
       " 47.822587988444255\n",
       " 47.787598307033434\n",
       " 53.44275957119237\n",
       " 49.4820176494003\n",
       " 50.330975841968076\n",
       " 48.57476426390516\n",
       " 49.259276982111295\n",
       " 48.82572649657627\n",
       " 48.10066087624922"
      ]
     },
     "metadata": {},
     "output_type": "display_data"
    }
   ],
   "source": [
    "sigma = 3\n",
    "mu = 50\n",
    "randn(10) .* sigma .+ mu"
   ]
  },
  {
   "cell_type": "code",
   "execution_count": 57,
   "metadata": {},
   "outputs": [
    {
     "data": {
      "text/plain": [
       "my_randn (generic function with 1 method)"
      ]
     },
     "metadata": {},
     "output_type": "display_data"
    }
   ],
   "source": [
    "function my_randn(n, mu, sigma)\n",
    "    return randn(n) .* sigma .+ mu\n",
    "end"
   ]
  },
  {
   "cell_type": "code",
   "execution_count": 58,
   "metadata": {},
   "outputs": [
    {
     "data": {
      "text/plain": [
       "10-element Vector{Float64}:\n",
       " 48.804203813739385\n",
       " 46.53428890114069\n",
       " 49.208690357253296\n",
       " 48.73007544966797\n",
       " 49.4201621312174\n",
       " 50.24815293259556\n",
       " 49.76301275759606\n",
       " 51.29969040318603\n",
       " 48.37512521201814\n",
       " 55.895773327245635"
      ]
     },
     "metadata": {},
     "output_type": "display_data"
    }
   ],
   "source": [
    "my_randn(10,50,3)"
   ]
  },
  {
   "cell_type": "code",
   "execution_count": 60,
   "metadata": {},
   "outputs": [
    {
     "data": {
      "text/plain": [
       "0.10648266850745075"
      ]
     },
     "metadata": {},
     "output_type": "display_data"
    }
   ],
   "source": [
    "using StatsFuns\n",
    "\n",
    "normpdf(mu,sigma,52)"
   ]
  },
  {
   "cell_type": "code",
   "execution_count": 63,
   "metadata": {},
   "outputs": [
    {
     "data": {
      "text/plain": [
       "50.0"
      ]
     },
     "metadata": {},
     "output_type": "display_data"
    }
   ],
   "source": [
    "norminvcdf(mu,sigma,0.5)"
   ]
  },
  {
   "attachments": {},
   "cell_type": "markdown",
   "metadata": {},
   "source": [
    "## 3.7 Plotting"
   ]
  },
  {
   "cell_type": "code",
   "execution_count": 64,
   "metadata": {},
   "outputs": [
    {
     "data": {
      "text/plain": [
       "\"\""
      ]
     },
     "metadata": {},
     "output_type": "display_data"
    }
   ],
   "source": [
    "ENV[\"Python\"] = \"\""
   ]
  },
  {
   "cell_type": "code",
   "execution_count": 65,
   "metadata": {},
   "outputs": [
    {
     "name": "stderr",
     "output_type": "stream",
     "text": [
      "\u001b[32m\u001b[1m    Updating\u001b[22m\u001b[39m registry at `C:\\Users\\siva1\\.julia\\registries\\General`"
     ]
    },
    {
     "name": "stderr",
     "output_type": "stream",
     "text": [
      "\n",
      "\u001b[32m\u001b[1m    Updating\u001b[22m\u001b[39m git-repo `https://github.com/JuliaRegistries/General.git`"
     ]
    },
    {
     "name": "stderr",
     "output_type": "stream",
     "text": [
      "\n",
      "\u001b[32m\u001b[1m   Resolving\u001b[22m\u001b[39m package versions..."
     ]
    },
    {
     "name": "stderr",
     "output_type": "stream",
     "text": [
      "\n"
     ]
    },
    {
     "name": "stderr",
     "output_type": "stream",
     "text": [
      "\u001b[32m\u001b[1m   Installed\u001b[22m\u001b[39m PyPlot ───────── v2.11.0\n"
     ]
    },
    {
     "name": "stderr",
     "output_type": "stream",
     "text": [
      "\u001b[32m\u001b[1m   Installed\u001b[22m\u001b[39m Conda ────────── v1.7.0\n",
      "\u001b[32m\u001b[1m   Installed\u001b[22m\u001b[39m VersionParsing ─ v1.3.0\n",
      "\u001b[32m\u001b[1m   Installed\u001b[22m\u001b[39m PyCall ───────── v1.94.1\n"
     ]
    },
    {
     "name": "stderr",
     "output_type": "stream",
     "text": [
      "\u001b[32m\u001b[1m    Updating\u001b[22m\u001b[39m `C:\\Users\\siva1\\.julia\\environments\\v1.8\\Project.toml`\n",
      " \u001b[90m [d330b81b] \u001b[39m\u001b[92m+ PyPlot v2.11.0\u001b[39m\n",
      "\u001b[32m\u001b[1m    Updating\u001b[22m\u001b[39m `C:\\Users\\siva1\\.julia\\environments\\v1.8\\Manifest.toml`\n"
     ]
    },
    {
     "name": "stderr",
     "output_type": "stream",
     "text": [
      " \u001b[90m [8f4d0f93] \u001b[39m\u001b[92m+ Conda v1.7.0\u001b[39m\n",
      " \u001b[90m [438e738f] \u001b[39m\u001b[92m+ PyCall v1.94.1\u001b[39m\n",
      " \u001b[90m [d330b81b] \u001b[39m\u001b[92m+ PyPlot v2.11.0\u001b[39m\n",
      " \u001b[90m [81def892] \u001b[39m\u001b[92m+ VersionParsing v1.3.0\u001b[39m\n",
      "\u001b[32m\u001b[1m    Building\u001b[22m\u001b[39m Conda ─→ `C:\\Users\\siva1\\.julia\\scratchspaces\\44cfe95a-1eb2-52ea-b672-e2afdf69b78f\\6e47d11ea2776bc5627421d59cdcc1296c058071\\build.log`\n"
     ]
    },
    {
     "name": "stderr",
     "output_type": "stream",
     "text": [
      "\u001b[32m\u001b[1m    Building\u001b[22m\u001b[39m PyCall → `C:\\Users\\siva1\\.julia\\scratchspaces\\44cfe95a-1eb2-52ea-b672-e2afdf69b78f\\53b8b07b721b77144a0fbbbc2675222ebf40a02d\\build.log`\n"
     ]
    },
    {
     "name": "stderr",
     "output_type": "stream",
     "text": [
      "\u001b[32m\u001b[1mPrecompiling\u001b[22m\u001b[39m"
     ]
    },
    {
     "name": "stderr",
     "output_type": "stream",
     "text": [
      " project..."
     ]
    },
    {
     "name": "stderr",
     "output_type": "stream",
     "text": [
      "\n"
     ]
    },
    {
     "name": "stderr",
     "output_type": "stream",
     "text": [
      "\u001b[32m  ✓ \u001b[39m\u001b[90mPyCall\u001b[39m\n"
     ]
    },
    {
     "name": "stderr",
     "output_type": "stream",
     "text": [
      "\u001b[32m  ✓ \u001b[39mPyPlot\n",
      "  2 dependencies successfully precompiled in 6 seconds. 221 already precompiled.\n"
     ]
    }
   ],
   "source": [
    "using Pkg\n",
    "\n",
    "Pkg.add(\"PyPlot\")"
   ]
  },
  {
   "cell_type": "code",
   "execution_count": 67,
   "metadata": {},
   "outputs": [],
   "source": [
    "using PyPlot\n",
    "\n",
    "# Preparing a figure object\n",
    "fig = figure()\n",
    "\n",
    "# Data\n",
    "x = range(0, stop=2*pi, length=1000)\n",
    "y = sin.(3*x)\n",
    "\n",
    "# Plotting with linewidth and linestyle specified\n",
    "plot(x, y, color=\"blue\", linewidth=2.0, linestyle=\"--\")\n",
    "\n",
    "# Labeling the axes\n",
    "xlabel(L\"value of $x$\")\n",
    "ylabel(L\"\\sin(3x)\")\n",
    "\n",
    "# Title\n",
    "title(\"Test plotting\")\n",
    "\n",
    "# Save the figure as PNG and PDF\n",
    "savefig(\"plot1.png\")\n",
    "savefig(\"plot1.pdf\")\n",
    "\n",
    "# Close the figure object\n",
    "close(fig)"
   ]
  },
  {
   "cell_type": "code",
   "execution_count": 68,
   "metadata": {},
   "outputs": [],
   "source": [
    "# Data\n",
    "lower_bound = [4.0, 4.2, 4.4, 4.8, 4.9, 4.95, 4.99, 5.00]\n",
    "upper_bound = [5.4, 5.3, 5.3, 5.2, 5.2, 5.15, 5.10, 5.05]\n",
    "iter = 1:8\n",
    "\n",
    "# Creating a new figure object\n",
    "fig = figure()\n",
    "\n",
    "# Plotting two datasets\n",
    "plot(iter, lower_bound, color=\"red\", linewidth=2.0, linestyle=\"-\",\n",
    " marker=\"o\", label=L\"Lower Bound $Z^k_L$\")\n",
    "plot(iter, upper_bound, color=\"blue\", linewidth=2.0, linestyle=\"-.\",\n",
    " marker=\"D\", label=L\"Upper Bound $Z^k_U$\")\n",
    "\n",
    "# Labeling axes\n",
    "xlabel(L\"iteration clock $k$\", fontsize=\"xx-large\")\n",
    "ylabel(\"objective function value\", fontsize=\"xx-large\")\n",
    "\n",
    "# Putting the legend and determining the location\n",
    "legend(loc=\"upper right\", fontsize=\"x-large\")\n",
    "\n",
    "# Add grid lines\n",
    "grid(color=\"#DDDDDD\", linestyle=\"-\", linewidth=1.0)\n",
    "tick_params(axis=\"both\", which=\"major\", labelsize=\"x-large\")\n",
    "\n",
    "# Title\n",
    "title(\"Lower and Upper Bounds\")\n",
    "\n",
    "# Save the figure as PNG and PDF\n",
    "savefig(\"plot2.png\")\n",
    "savefig(\"plot2.pdf\")\n",
    "\n",
    "# Closing the figure object\n",
    "close(fig)"
   ]
  },
  {
   "cell_type": "code",
   "execution_count": 69,
   "metadata": {},
   "outputs": [],
   "source": [
    "# Data\n",
    "data = randn(100) # Some Random Data\n",
    "nbins = 10        # Number of bins\n",
    "\n",
    "# Creating a new figure object\n",
    "fig = figure()\n",
    "\n",
    "# Histogram\n",
    "plt[:hist](data, nbins)\n",
    "\n",
    "# Title\n",
    "title(\"Histogram\")\n",
    "\n",
    "# Save the figure as PNG and PDF\n",
    "savefig(\"plot3.png\")\n",
    "savefig(\"plot3.pdf\")\n",
    "\n",
    "# Closing the figure object\n",
    "close(fig)"
   ]
  },
  {
   "cell_type": "code",
   "execution_count": null,
   "metadata": {},
   "outputs": [],
   "source": []
  }
 ],
 "metadata": {
  "kernelspec": {
   "display_name": "Julia 1.8.2",
   "language": "julia",
   "name": "julia-1.8"
  },
  "language_info": {
   "file_extension": ".jl",
   "mimetype": "application/julia",
   "name": "julia",
   "version": "1.8.2"
  },
  "orig_nbformat": 4,
  "vscode": {
   "interpreter": {
    "hash": "e740e6ec1ce77664cb5c3ee9fdb773d8bf056f205e7f4671b38dc5143d613643"
   }
  }
 },
 "nbformat": 4,
 "nbformat_minor": 2
}
