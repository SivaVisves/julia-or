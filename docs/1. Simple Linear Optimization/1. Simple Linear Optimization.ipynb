{
 "cells": [
  {
   "attachments": {},
   "cell_type": "markdown",
   "metadata": {},
   "source": [
    "# 2.1 LP Problems"
   ]
  },
  {
   "attachments": {},
   "cell_type": "markdown",
   "metadata": {},
   "source": [
    "Here is a compendium of ways to run a LP problem in Julia using JuMP and GLPK"
   ]
  },
  {
   "attachments": {},
   "cell_type": "markdown",
   "metadata": {},
   "source": [
    "Below will be the LP problem that will be used for this example:\n",
    "\n",
    "$$ \\max x_1 + 2x_2 + 5x_3 $$\n",
    "\n",
    "subject to\n",
    "$$ -x_1 + x_2 + 3x_3 \\leq 5$$\n",
    "$$ x_1 + 3x_2 - 7x_3 \\leq 10$$\n",
    "$$ 0 \\leq x_1 \\leq 10 $$\n",
    "$$ x_2 \\geq 0$$\n",
    "$$ x_3 \\geq 0$$"
   ]
  },
  {
   "cell_type": "code",
   "execution_count": 63,
   "metadata": {},
   "outputs": [],
   "source": [
    "using JuMP, GLPK"
   ]
  },
  {
   "cell_type": "code",
   "execution_count": 64,
   "metadata": {},
   "outputs": [],
   "source": [
    "# Preparing an optimization model\n",
    "m = Model(GLPK.Optimizer);"
   ]
  },
  {
   "cell_type": "code",
   "execution_count": 65,
   "metadata": {},
   "outputs": [],
   "source": [
    "#Declaring Variables \n",
    "@variable(m, 0<= x1 <=10);\n",
    "@variable(m, x2 >= 0);\n",
    "@variable(m, x3 >= 0);"
   ]
  },
  {
   "cell_type": "code",
   "execution_count": 66,
   "metadata": {},
   "outputs": [],
   "source": [
    "#Setting objective function\n",
    "@objective(m, Max, x1 + 2x2 + 5x3);"
   ]
  },
  {
   "cell_type": "code",
   "execution_count": 67,
   "metadata": {},
   "outputs": [],
   "source": [
    "#adding constraints\n",
    "@constraint(m, constraint1, -x1 +  x2 + 3x3 <= -5);\n",
    "@constraint(m, constraint2,  x1 + 3x2 - 7x3 <= 10);"
   ]
  },
  {
   "cell_type": "code",
   "execution_count": 68,
   "metadata": {},
   "outputs": [
    {
     "name": "stdout",
     "output_type": "stream",
     "text": [
      "Max x1 + 2 x2 + 5 x3\n",
      "Subject to\n",
      " constraint1 : -x1 + x2 + 3 x3 <= -5.0\n",
      " constraint2 : x1 + 3 x2 - 7 x3 <= 10.0\n",
      " x1 >= 0.0\n",
      " x2 >= 0.0\n",
      " x3 >= 0.0\n",
      " x1 <= 10.0\n"
     ]
    }
   ],
   "source": [
    "# Printing the prepared optimization model\n",
    "print(m)"
   ]
  },
  {
   "cell_type": "code",
   "execution_count": 69,
   "metadata": {},
   "outputs": [],
   "source": [
    "# Solving the optimization problem\n",
    "JuMP.optimize!(m)"
   ]
  },
  {
   "cell_type": "code",
   "execution_count": 70,
   "metadata": {},
   "outputs": [
    {
     "name": "stdout",
     "output_type": "stream",
     "text": [
      "Objective value: 19.0625\n",
      "Optimal Solutions:\n",
      "x1 = 10.0\n",
      "x2 = 2.1875\n",
      "x3 = 0.9375\n"
     ]
    }
   ],
   "source": [
    "# Printing the optimal solutions obtained\n",
    "\n",
    "println(\"Objective value: \", JuMP.objective_value(m))\n",
    "\n",
    "\n",
    "println(\"Optimal Solutions:\")\n",
    "println(\"x1 = \", JuMP.value(x1))\n",
    "println(\"x2 = \", JuMP.value(x2))\n",
    "println(\"x3 = \", JuMP.value(x3))"
   ]
  },
  {
   "attachments": {},
   "cell_type": "markdown",
   "metadata": {},
   "source": [
    "<b>Shadow prices</b>: Calculating the effect on the objective value if the RHS of the constraint equation is increased by one. "
   ]
  },
  {
   "cell_type": "code",
   "execution_count": 71,
   "metadata": {},
   "outputs": [
    {
     "name": "stdout",
     "output_type": "stream",
     "text": [
      "Dual Variables:\n",
      "dual1 = 1.8125\n",
      "dual2 = 0.06249999999999998\n"
     ]
    }
   ],
   "source": [
    "# Printing the optimal dual variables\n",
    "println(\"Dual Variables:\")\n",
    "println(\"dual1 = \", JuMP.shadow_price(constraint1))\n",
    "println(\"dual2 = \", JuMP.shadow_price(constraint2))"
   ]
  },
  {
   "attachments": {},
   "cell_type": "markdown",
   "metadata": {},
   "source": [
    "# 2.2 Alternative Ways of Writing LP"
   ]
  },
  {
   "cell_type": "code",
   "execution_count": 72,
   "metadata": {},
   "outputs": [],
   "source": [
    "using JuMP, GLPK"
   ]
  },
  {
   "cell_type": "code",
   "execution_count": 73,
   "metadata": {},
   "outputs": [],
   "source": [
    "# Preparing an optimization model\n",
    "m = Model(GLPK.Optimizer);"
   ]
  },
  {
   "cell_type": "code",
   "execution_count": 74,
   "metadata": {},
   "outputs": [],
   "source": [
    "# Setting Variable x\n",
    "@variable(m, x[1:3] >= 0);"
   ]
  },
  {
   "cell_type": "code",
   "execution_count": 75,
   "metadata": {},
   "outputs": [],
   "source": [
    "# Setting Variable C and Objective function\n",
    "C = [1,2,5]\n",
    "\n",
    "@objective(m, Max, sum(C[i]*x[i] for i in 1:3));"
   ]
  },
  {
   "cell_type": "code",
   "execution_count": 76,
   "metadata": {},
   "outputs": [],
   "source": [
    "# Constraints definition in the form of a Matrix\n",
    "A = [-1  1  3;\n",
    "      1  3 -7];\n",
    "b = [-5; 10];\n",
    "@constraint(m, constraint1, sum( A[1,i]*x[i] for i in 1:3) <= b[1] );\n",
    "@constraint(m, constraint2, sum( A[2,i]*x[i] for i in 1:3) <= b[2] );"
   ]
  },
  {
   "attachments": {},
   "cell_type": "markdown",
   "metadata": {},
   "source": [
    "Below are alternative ways to defining constraints. Uncomment to see how it works. To unregister constraints, use 'unregister(model, :constraint#)'"
   ]
  },
  {
   "cell_type": "code",
   "execution_count": 77,
   "metadata": {},
   "outputs": [],
   "source": [
    "#-------------Alternative ways of coding constraints----------------------------------\n",
    "\n",
    "\n",
    "#-------------Alternative 1-----------------------------------------------------------\n",
    "# constraint = Dict()\n",
    "# for j in 1:2\n",
    "#   constraint[j] = @constraint(m, sum(A[j,i]*x[i] for i in 1:3) <= b[j])\n",
    "# end\n",
    "\n",
    "\n",
    "#-------------Alternative 2-----------------------------------------------------------\n",
    "# @constraint(m, constraint[j in 1:2], sum(A[j,i]*x[i] for i in 1:3) <= b[j])"
   ]
  },
  {
   "cell_type": "code",
   "execution_count": 78,
   "metadata": {},
   "outputs": [],
   "source": [
    "#adding bounds for the value of x[1]\n",
    "@constraint(m, bound, x[1] <=10);"
   ]
  },
  {
   "cell_type": "code",
   "execution_count": 79,
   "metadata": {},
   "outputs": [],
   "source": [
    "JuMP.optimize!(m)"
   ]
  },
  {
   "cell_type": "code",
   "execution_count": 80,
   "metadata": {},
   "outputs": [
    {
     "name": "stdout",
     "output_type": "stream",
     "text": [
      "Objective value: 19.0625\n",
      "Optimal Solutions:\n",
      "x[1] = 10.0\n",
      "x[2] = 2.1875\n",
      "x[3] = 0.9375\n"
     ]
    }
   ],
   "source": [
    "#Printing the optimal values\n",
    "\n",
    "println(\"Objective value: \", JuMP.objective_value(m))\n",
    "\n",
    "\n",
    "println(\"Optimal Solutions:\")\n",
    "for i in 1:3\n",
    "    println(\"x[$i] = \", JuMP.value(x[i]))\n",
    "end"
   ]
  },
  {
   "cell_type": "code",
   "execution_count": 81,
   "metadata": {},
   "outputs": [
    {
     "name": "stdout",
     "output_type": "stream",
     "text": [
      "Dual Variables:\n",
      "dual[1] = 1.8125\n",
      "dual[2] = 0.06250000000000003\n"
     ]
    }
   ],
   "source": [
    "# placing shadow prices of individual constraints in a list for printing\n",
    "constraint = [JuMP.shadow_price(constraint1), JuMP.shadow_price(constraint2)]\n",
    "\n",
    "#Printing the dual variables\n",
    "println(\"Dual Variables:\")\n",
    "for j in 1:2\n",
    "  println(\"dual[$j] = \", constraint[j])\n",
    "end"
   ]
  },
  {
   "attachments": {},
   "cell_type": "markdown",
   "metadata": {},
   "source": [
    "# 2.3 Yet Another Way of Writing LP Problems"
   ]
  },
  {
   "attachments": {},
   "cell_type": "markdown",
   "metadata": {},
   "source": [
    "In section 2.2, to change the data and solve another probelm with the same structure, individual lists would need to be updates. This could be rather tedious. Here is another way to update values."
   ]
  },
  {
   "cell_type": "code",
   "execution_count": 82,
   "metadata": {},
   "outputs": [],
   "source": [
    "using JuMP, GLPK"
   ]
  },
  {
   "cell_type": "code",
   "execution_count": 83,
   "metadata": {},
   "outputs": [],
   "source": [
    "# Preparing an optimization model\n",
    "m = Model(GLPK.Optimizer);"
   ]
  },
  {
   "cell_type": "code",
   "execution_count": 84,
   "metadata": {},
   "outputs": [],
   "source": [
    "# adding indices to track constraints\n",
    "index_x = 1:3\n",
    "index_constraints = 1:2\n",
    "\n",
    "A = [-1  1  3;\n",
    "      1  3 -7];\n",
    "b = [-5; 10];\n",
    "c = [ 1; 2; 5];"
   ]
  },
  {
   "cell_type": "code",
   "execution_count": 85,
   "metadata": {},
   "outputs": [],
   "source": [
    "@variable(m, x[index_x] >= 0);\n",
    "@objective(m, Max, sum( c[i]*x[i] for i in index_x) );\n",
    "\n",
    "#---------New way to define constraints--------------------\n",
    "@constraint(m, constraint[j in index_constraints], \n",
    "                            sum( A[j,i]*x[i] for i in index_x ) <= b[j] );"
   ]
  },
  {
   "attachments": {},
   "cell_type": "markdown",
   "metadata": {},
   "source": [
    "# 2.4 Mixed Integer Linear Programming (MILP) Problems"
   ]
  },
  {
   "attachments": {},
   "cell_type": "markdown",
   "metadata": {},
   "source": [
    "For MILP problems, GUROBI and CPLEX optimization solvers will be used to solve MILP problems."
   ]
  },
  {
   "attachments": {},
   "cell_type": "markdown",
   "metadata": {},
   "source": [
    "Some changes will be made based on the original LP problem as an example for MILP. The following problem will be solved using Julia:\n",
    "\n",
    "$$ \\max x_1 + 2x_2 + 5x_3$$\n",
    "\n",
    "subject to\n",
    "\n",
    "$$ -x_1 + x_2 + 3x_3 <= 5$$\n",
    "$$ x_1 + 3x_2 - 7x_3 <= 10$$\n",
    "$$ 0 <= x_1 <= 10 $$\n",
    "$$ x_2 >= 0 \\ Integer$$\n",
    "$$ x_3 \\in \\{0,1\\} .$$"
   ]
  },
  {
   "cell_type": "code",
   "execution_count": 86,
   "metadata": {},
   "outputs": [],
   "source": [
    "using JuMP, Gurobi"
   ]
  },
  {
   "cell_type": "code",
   "execution_count": 87,
   "metadata": {},
   "outputs": [
    {
     "name": "stdout",
     "output_type": "stream",
     "text": [
      "Set parameter Username\r\n",
      "Academic license - for non-commercial use only - expires 2023-11-10\r\n"
     ]
    }
   ],
   "source": [
    "# Preparing an optimization model\n",
    "m = Model(Gurobi.Optimizer);"
   ]
  },
  {
   "cell_type": "code",
   "execution_count": 88,
   "metadata": {},
   "outputs": [],
   "source": [
    "# defining integer and binary variables\n",
    "@variable(m, 0<= x1 <=10);\n",
    "@variable(m, x2 >=0, Int);\n",
    "@variable(m, x3, Bin);"
   ]
  },
  {
   "cell_type": "code",
   "execution_count": 89,
   "metadata": {},
   "outputs": [],
   "source": [
    "# Setting the objective\n",
    "@objective(m, Max, x1 + 2x2 + 5x3);\n",
    "\n",
    "# Adding constraints\n",
    "@constraint(m, constraint1, -x1 +  x2 + 3x3 <= -5);\n",
    "@constraint(m, constraint2,  x1 + 3x2 - 7x3 <= 10);"
   ]
  },
  {
   "cell_type": "code",
   "execution_count": 90,
   "metadata": {},
   "outputs": [
    {
     "name": "stdout",
     "output_type": "stream",
     "text": [
      "Max x1 + 2 x2 + 5 x3\n",
      "Subject to\n",
      " constraint1 : -x1 + x2 + 3 x3 <= -5.0\n",
      " constraint2 : x1 + 3 x2 - 7 x3 <= 10.0\n",
      " x1 >= 0.0\n",
      " x2 >= 0.0\n",
      " x1 <= 10.0\n",
      " x2 integer\n",
      " x3 binary\n"
     ]
    }
   ],
   "source": [
    "# Printing the prepared optimization model\n",
    "print(m)"
   ]
  },
  {
   "cell_type": "code",
   "execution_count": 91,
   "metadata": {},
   "outputs": [
    {
     "name": "stdout",
     "output_type": "stream",
     "text": [
      "Gurobi Optimizer version 9.5.2 build v9.5.2rc0 (win64)\r\n",
      "Thread count: 8 physical cores, 16 logical processors, using up to 16 threads\r\n",
      "Optimize a model with 2 rows, 3 columns and 6 nonzeros\r\n",
      "Model fingerprint: 0x001f10fa\r\n",
      "Variable types: 1 continuous, 2 integer (1 binary)\r\n",
      "Coefficient statistics:\r\n",
      "  Matrix range     [1e+00, 7e+00]\r\n",
      "  Objective range  [1e+00, 5e+00]\r\n",
      "  Bounds range     [1e+01, 1e+01]\r\n",
      "  RHS range        [5e+00, 1e+01]\r\n",
      "Found heuristic solution: objective 19.0000000\r\n",
      "Presolve removed 2 rows and 3 columns\r\n",
      "Presolve time: 0.00s\r\n",
      "Presolve: All rows and columns removed\r\n",
      "\r\n",
      "Explored 0 nodes (0 simplex iterations) in 0.00 seconds (0.00 work units)\r\n",
      "Thread count was 1 (of 16 available processors)\r\n",
      "\r\n",
      "Solution count 1: 19 \r\n",
      "\r\n",
      "Optimal solution found (tolerance 1.00e-04)\r\n",
      "Best objective 1.900000000000e+01, best bound 1.900000000000e+01, gap 0.0000%\r\n",
      "\r\n",
      "User-callback calls 240, time in user-callback 0.00 sec\r\n"
     ]
    }
   ],
   "source": [
    "# Solving the optimization problem\n",
    "JuMP.optimize!(m)"
   ]
  },
  {
   "cell_type": "code",
   "execution_count": 92,
   "metadata": {},
   "outputs": [
    {
     "name": "stdout",
     "output_type": "stream",
     "text": [
      "Objective value: 19.0\n",
      "Optimal Solutions:\n",
      "x1 = 10.0\n",
      "x2 = 2.0\n",
      "x3 = 1.0\n"
     ]
    }
   ],
   "source": [
    "# Printing the optimal solutions obtained\n",
    "\n",
    "println(\"Objective value: \", JuMP.objective_value(m))\n",
    "\n",
    "println(\"Optimal Solutions:\")\n",
    "println(\"x1 = \", JuMP.value(x1))\n",
    "println(\"x2 = \", JuMP.value(x2))\n",
    "println(\"x3 = \", JuMP.value(x3))"
   ]
  }
 ],
 "metadata": {
  "kernelspec": {
   "display_name": "Julia 1.8.2",
   "language": "julia",
   "name": "julia-1.8"
  },
  "language_info": {
   "file_extension": ".jl",
   "mimetype": "application/julia",
   "name": "julia",
   "version": "1.8.2"
  },
  "orig_nbformat": 4
 },
 "nbformat": 4,
 "nbformat_minor": 2
}
